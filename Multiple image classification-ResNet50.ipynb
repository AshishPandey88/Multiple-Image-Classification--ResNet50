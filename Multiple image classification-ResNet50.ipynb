{
 "cells": [
  {
   "cell_type": "code",
   "execution_count": 10,
   "id": "84221610",
   "metadata": {},
   "outputs": [],
   "source": [
    "from keras.preprocessing.image import load_img\n",
    "from keras.preprocessing.image import img_to_array\n",
    "from keras.applications.resnet import preprocess_input\n",
    "from keras.applications.resnet import decode_predictions\n",
    "from keras.applications.resnet import ResNet50"
   ]
  },
  {
   "cell_type": "code",
   "execution_count": 11,
   "id": "d706b898",
   "metadata": {},
   "outputs": [
    {
     "name": "stdout",
     "output_type": "stream",
     "text": [
      "Downloading data from https://storage.googleapis.com/tensorflow/keras-applications/resnet/resnet50_weights_tf_dim_ordering_tf_kernels.h5\n",
      "102973440/102967424 [==============================] - 13s 0us/step\n",
      "102981632/102967424 [==============================] - 13s 0us/step\n"
     ]
    }
   ],
   "source": [
    "# load the model\n",
    "model = ResNet50()"
   ]
  },
  {
   "cell_type": "code",
   "execution_count": 12,
   "id": "92b61250",
   "metadata": {},
   "outputs": [],
   "source": [
    "import os\n",
    "import numpy as np"
   ]
  },
  {
   "cell_type": "code",
   "execution_count": 23,
   "id": "d84c8db5",
   "metadata": {},
   "outputs": [],
   "source": [
    "image_name=[image_name for image_name in os.listdir(r'D:\\Deep Learning\\test_images')]"
   ]
  },
  {
   "cell_type": "code",
   "execution_count": 24,
   "id": "023c6bea",
   "metadata": {},
   "outputs": [],
   "source": [
    "folder=r'D:\\Deep Learning\\test_images'"
   ]
  },
  {
   "cell_type": "code",
   "execution_count": 25,
   "id": "10b6cbdd",
   "metadata": {},
   "outputs": [
    {
     "data": {
      "text/plain": [
       "'D:\\\\Deep Learning\\\\test_images\\\\b15.jpg'"
      ]
     },
     "execution_count": 25,
     "metadata": {},
     "output_type": "execute_result"
    }
   ],
   "source": [
    "folder+\"\\\\\"+ image_name[1]"
   ]
  },
  {
   "cell_type": "code",
   "execution_count": 26,
   "id": "a535a08b",
   "metadata": {},
   "outputs": [],
   "source": [
    "image_path=[]\n",
    "for i in image_name:\n",
    "    image_path.append(folder+\"\\\\\"+ i)"
   ]
  },
  {
   "cell_type": "code",
   "execution_count": 27,
   "id": "cdb64c68",
   "metadata": {},
   "outputs": [],
   "source": [
    "image=[]\n",
    "for i in image_path:\n",
    "    img = load_img(i,target_size=(224, 224))\n",
    "    img=img_to_array(img)\n",
    "    img = img.reshape((1, img.shape[0], img.shape[1], img.shape[2]))\n",
    "    # prepare the image for the VGG model\n",
    "    img = preprocess_input(img)\n",
    "    image.append(img)"
   ]
  },
  {
   "cell_type": "code",
   "execution_count": 28,
   "id": "c01d8caa",
   "metadata": {},
   "outputs": [],
   "source": [
    "image = np.vstack(image)\n",
    "yhat = model.predict(image)"
   ]
  },
  {
   "cell_type": "code",
   "execution_count": 29,
   "id": "8f04b825",
   "metadata": {},
   "outputs": [],
   "source": [
    "label = decode_predictions(yhat)"
   ]
  },
  {
   "cell_type": "code",
   "execution_count": 30,
   "id": "da6d266b",
   "metadata": {},
   "outputs": [
    {
     "name": "stdout",
     "output_type": "stream",
     "text": [
      "('n03769881', 'minibus', 0.9354971)\n",
      "('n03769881', 'minibus', 0.6863674)\n",
      "('n04335435', 'streetcar', 0.43150038)\n",
      "('n02930766', 'cab', 0.9108036)\n",
      "('n03063599', 'coffee_mug', 0.94479436)\n",
      "('n03388043', 'fountain', 0.86735445)\n",
      "('n03599486', 'jinrikisha', 0.42174053)\n",
      "('n04507155', 'umbrella', 0.23268394)\n",
      "('n04005630', 'prison', 0.1726678)\n",
      "('n03141823', 'crutch', 0.4483129)\n",
      "('n03891332', 'parking_meter', 0.7980603)\n",
      "('n04149813', 'scoreboard', 0.16375433)\n",
      "('n02930766', 'cab', 0.93248385)\n",
      "('n06794110', 'street_sign', 0.98793167)\n",
      "('n03100240', 'convertible', 0.37827915)\n",
      "('n02930766', 'cab', 0.77761155)\n",
      "('n03538406', 'horse_cart', 0.23938632)\n",
      "('n04487081', 'trolleybus', 0.6098004)\n",
      "('n02835271', 'bicycle-built-for-two', 0.8749526)\n",
      "('n07248320', 'book_jacket', 0.09075146)\n",
      "('n02835271', 'bicycle-built-for-two', 0.5410963)\n",
      "('n02835271', 'bicycle-built-for-two', 0.20300268)\n",
      "('n06794110', 'street_sign', 0.97664464)\n",
      "('n04146614', 'school_bus', 0.99952555)\n",
      "('n06874185', 'traffic_light', 0.99978286)\n",
      "('n04146614', 'school_bus', 0.95823437)\n",
      "('n06874185', 'traffic_light', 0.99649787)\n",
      "('n06874185', 'traffic_light', 0.60263014)\n",
      "('n06874185', 'traffic_light', 0.99996245)\n",
      "('n02930766', 'cab', 0.9108036)\n"
     ]
    }
   ],
   "source": [
    "for i in range(len(label)):\n",
    "    print(label[i][0])"
   ]
  },
  {
   "cell_type": "code",
   "execution_count": 31,
   "id": "28276b82",
   "metadata": {},
   "outputs": [
    {
     "name": "stdout",
     "output_type": "stream",
     "text": [
      "[['b14.jpg', 'minibus'], ['b15.jpg', 'minibus'], ['b42.jpg', 'streetcar'], ['c2.jpg', 'cab'], ['mug.jpg', 'coffee_mug'], ['p1.jpg', 'fountain'], ['p10.jpg', 'jinrikisha'], ['p11.jpg', 'umbrella'], ['p16.jpg', 'prison'], ['p7.jpg', 'crutch'], ['s1.jpg', 'parking_meter'], ['s21.jpg', 'scoreboard'], ['s22.jpg', 'cab'], ['s24.jpg', 'street_sign'], ['s25.jpg', 'convertible'], ['s36.jpg', 'cab'], ['s37.jpg', 'horse_cart'], ['s42.jpg', 'trolleybus'], ['s43.jpg', 'bicycle-built-for-two'], ['s44.jpg', 'book_jacket'], ['s45.jpg', 'bicycle-built-for-two'], ['s46.jpg', 'bicycle-built-for-two'], ['s6.jpg', 'street_sign'], ['schoolbus.jpg', 'school_bus'], ['t18.jpg', 'traffic_light'], ['t34.jpg', 'school_bus'], ['t35.jpg', 'traffic_light'], ['t38.jpg', 'traffic_light'], ['t39.jpg', 'traffic_light'], ['traffic.jpg', 'cab']]\n"
     ]
    }
   ],
   "source": [
    "results=[]\n",
    "for i in range(len(image_name)):\n",
    "    results.append([image_name[i],label[i][0][1]])\n",
    "\n",
    "print(results)"
   ]
  },
  {
   "cell_type": "code",
   "execution_count": 32,
   "id": "55cdb373",
   "metadata": {},
   "outputs": [
    {
     "data": {
      "text/plain": [
       "[<keras.engine.input_layer.InputLayer at 0x22e43820d30>,\n",
       " <keras.layers.convolutional.ZeroPadding2D at 0x22e42f8d430>,\n",
       " <keras.layers.convolutional.Conv2D at 0x22e42f8d7c0>,\n",
       " <keras.layers.normalization.batch_normalization.BatchNormalization at 0x22e437d5550>,\n",
       " <keras.layers.core.activation.Activation at 0x22e437d5250>,\n",
       " <keras.layers.convolutional.ZeroPadding2D at 0x22e42c1d610>,\n",
       " <keras.layers.pooling.MaxPooling2D at 0x22e42d2ae20>,\n",
       " <keras.layers.convolutional.Conv2D at 0x22e42c1d640>,\n",
       " <keras.layers.normalization.batch_normalization.BatchNormalization at 0x22e42d5d670>,\n",
       " <keras.layers.core.activation.Activation at 0x22e42d54670>,\n",
       " <keras.layers.convolutional.Conv2D at 0x22e42eab730>,\n",
       " <keras.layers.normalization.batch_normalization.BatchNormalization at 0x22e42eb2fd0>,\n",
       " <keras.layers.core.activation.Activation at 0x22e42ec0cd0>,\n",
       " <keras.layers.convolutional.Conv2D at 0x22e42d4a370>,\n",
       " <keras.layers.convolutional.Conv2D at 0x22e42eb2a60>,\n",
       " <keras.layers.normalization.batch_normalization.BatchNormalization at 0x22e42d54a30>,\n",
       " <keras.layers.normalization.batch_normalization.BatchNormalization at 0x22e42ed6250>,\n",
       " <keras.layers.merge.Add at 0x22e42ec07c0>,\n",
       " <keras.layers.core.activation.Activation at 0x22e42ec28b0>,\n",
       " <keras.layers.convolutional.Conv2D at 0x22e42ed67c0>,\n",
       " <keras.layers.normalization.batch_normalization.BatchNormalization at 0x22e42db9250>,\n",
       " <keras.layers.core.activation.Activation at 0x22e42db99d0>,\n",
       " <keras.layers.convolutional.Conv2D at 0x22e42ed6d30>,\n",
       " <keras.layers.normalization.batch_normalization.BatchNormalization at 0x22e42dcd5e0>,\n",
       " <keras.layers.core.activation.Activation at 0x22e42db95e0>,\n",
       " <keras.layers.convolutional.Conv2D at 0x22e42dd9700>,\n",
       " <keras.layers.normalization.batch_normalization.BatchNormalization at 0x22e42ddbac0>,\n",
       " <keras.layers.merge.Add at 0x22e42dd9b50>,\n",
       " <keras.layers.core.activation.Activation at 0x22e42dcdd30>,\n",
       " <keras.layers.convolutional.Conv2D at 0x22e42ddb820>,\n",
       " <keras.layers.normalization.batch_normalization.BatchNormalization at 0x22e42e02ac0>,\n",
       " <keras.layers.core.activation.Activation at 0x22e42e0c790>,\n",
       " <keras.layers.convolutional.Conv2D at 0x22e42db7d00>,\n",
       " <keras.layers.normalization.batch_normalization.BatchNormalization at 0x22e42e17b50>,\n",
       " <keras.layers.core.activation.Activation at 0x22e42e02d60>,\n",
       " <keras.layers.convolutional.Conv2D at 0x22e42e1d130>,\n",
       " <keras.layers.normalization.batch_normalization.BatchNormalization at 0x22e42de9e50>,\n",
       " <keras.layers.merge.Add at 0x22e42e1d9d0>,\n",
       " <keras.layers.core.activation.Activation at 0x22e42dad3d0>,\n",
       " <keras.layers.convolutional.Conv2D at 0x22e42f8d910>,\n",
       " <keras.layers.normalization.batch_normalization.BatchNormalization at 0x22e42e17430>,\n",
       " <keras.layers.core.activation.Activation at 0x22e42dcd130>,\n",
       " <keras.layers.convolutional.Conv2D at 0x22e42e31c40>,\n",
       " <keras.layers.normalization.batch_normalization.BatchNormalization at 0x22e42e2f0a0>,\n",
       " <keras.layers.core.activation.Activation at 0x22e42e47100>,\n",
       " <keras.layers.convolutional.Conv2D at 0x22e42dd9940>,\n",
       " <keras.layers.convolutional.Conv2D at 0x22e42e47eb0>,\n",
       " <keras.layers.normalization.batch_normalization.BatchNormalization at 0x22e42eb26d0>,\n",
       " <keras.layers.normalization.batch_normalization.BatchNormalization at 0x22e42e50940>,\n",
       " <keras.layers.merge.Add at 0x22e42e28fd0>,\n",
       " <keras.layers.core.activation.Activation at 0x22e42fa5040>,\n",
       " <keras.layers.convolutional.Conv2D at 0x22e42e479d0>,\n",
       " <keras.layers.normalization.batch_normalization.BatchNormalization at 0x22e42fb2940>,\n",
       " <keras.layers.core.activation.Activation at 0x22e42fb5610>,\n",
       " <keras.layers.convolutional.Conv2D at 0x22e42fb5be0>,\n",
       " <keras.layers.normalization.batch_normalization.BatchNormalization at 0x22e42fbd9d0>,\n",
       " <keras.layers.core.activation.Activation at 0x22e42fb51c0>,\n",
       " <keras.layers.convolutional.Conv2D at 0x22e42fcbf10>,\n",
       " <keras.layers.normalization.batch_normalization.BatchNormalization at 0x22e42fb2640>,\n",
       " <keras.layers.merge.Add at 0x22e42e2f580>,\n",
       " <keras.layers.core.activation.Activation at 0x22e42fcbee0>,\n",
       " <keras.layers.convolutional.Conv2D at 0x22e42fddc10>,\n",
       " <keras.layers.normalization.batch_normalization.BatchNormalization at 0x22e42ef5f10>,\n",
       " <keras.layers.core.activation.Activation at 0x22e42f05e50>,\n",
       " <keras.layers.convolutional.Conv2D at 0x22e42f05820>,\n",
       " <keras.layers.normalization.batch_normalization.BatchNormalization at 0x22e42f0ffa0>,\n",
       " <keras.layers.core.activation.Activation at 0x22e42f05670>,\n",
       " <keras.layers.convolutional.Conv2D at 0x22e42f0f9a0>,\n",
       " <keras.layers.normalization.batch_normalization.BatchNormalization at 0x22e42f341f0>,\n",
       " <keras.layers.merge.Add at 0x22e42f217f0>,\n",
       " <keras.layers.core.activation.Activation at 0x22e42f36a30>,\n",
       " <keras.layers.convolutional.Conv2D at 0x22e42f34700>,\n",
       " <keras.layers.normalization.batch_normalization.BatchNormalization at 0x22e42f5a1f0>,\n",
       " <keras.layers.core.activation.Activation at 0x22e42f5ac10>,\n",
       " <keras.layers.convolutional.Conv2D at 0x22e42f34040>,\n",
       " <keras.layers.normalization.batch_normalization.BatchNormalization at 0x22e42f2b3a0>,\n",
       " <keras.layers.core.activation.Activation at 0x22e42f5ac70>,\n",
       " <keras.layers.convolutional.Conv2D at 0x22e42fdd430>,\n",
       " <keras.layers.normalization.batch_normalization.BatchNormalization at 0x22e42fa5e80>,\n",
       " <keras.layers.merge.Add at 0x22e42e313d0>,\n",
       " <keras.layers.core.activation.Activation at 0x22e42e50880>,\n",
       " <keras.layers.convolutional.Conv2D at 0x22e42f575e0>,\n",
       " <keras.layers.normalization.batch_normalization.BatchNormalization at 0x22e42de9a90>,\n",
       " <keras.layers.core.activation.Activation at 0x22e42f2b070>,\n",
       " <keras.layers.convolutional.Conv2D at 0x22e430aaa90>,\n",
       " <keras.layers.normalization.batch_normalization.BatchNormalization at 0x22e430acb20>,\n",
       " <keras.layers.core.activation.Activation at 0x22e430b7070>,\n",
       " <keras.layers.convolutional.Conv2D at 0x22e42e17c10>,\n",
       " <keras.layers.convolutional.Conv2D at 0x22e430b7280>,\n",
       " <keras.layers.normalization.batch_normalization.BatchNormalization at 0x22e42f57460>,\n",
       " <keras.layers.normalization.batch_normalization.BatchNormalization at 0x22e430aa880>,\n",
       " <keras.layers.merge.Add at 0x22e430d2460>,\n",
       " <keras.layers.core.activation.Activation at 0x22e430accd0>,\n",
       " <keras.layers.convolutional.Conv2D at 0x22e430cc1f0>,\n",
       " <keras.layers.normalization.batch_normalization.BatchNormalization at 0x22e430ddfd0>,\n",
       " <keras.layers.core.activation.Activation at 0x22e42ff55e0>,\n",
       " <keras.layers.convolutional.Conv2D at 0x22e42ff5910>,\n",
       " <keras.layers.normalization.batch_normalization.BatchNormalization at 0x22e42fe8d90>,\n",
       " <keras.layers.core.activation.Activation at 0x22e42ff5e20>,\n",
       " <keras.layers.convolutional.Conv2D at 0x22e430cc5e0>,\n",
       " <keras.layers.normalization.batch_normalization.BatchNormalization at 0x22e430105b0>,\n",
       " <keras.layers.merge.Add at 0x22e42ffb850>,\n",
       " <keras.layers.core.activation.Activation at 0x22e43003940>,\n",
       " <keras.layers.convolutional.Conv2D at 0x22e43010730>,\n",
       " <keras.layers.normalization.batch_normalization.BatchNormalization at 0x22e430315b0>,\n",
       " <keras.layers.core.activation.Activation at 0x22e43031d00>,\n",
       " <keras.layers.convolutional.Conv2D at 0x22e43028970>,\n",
       " <keras.layers.normalization.batch_normalization.BatchNormalization at 0x22e430483a0>,\n",
       " <keras.layers.core.activation.Activation at 0x22e43031d30>,\n",
       " <keras.layers.convolutional.Conv2D at 0x22e43051c10>,\n",
       " <keras.layers.normalization.batch_normalization.BatchNormalization at 0x22e4305e880>,\n",
       " <keras.layers.merge.Add at 0x22e43069850>,\n",
       " <keras.layers.core.activation.Activation at 0x22e43069e80>,\n",
       " <keras.layers.convolutional.Conv2D at 0x22e4305e6a0>,\n",
       " <keras.layers.normalization.batch_normalization.BatchNormalization at 0x22e43010e50>,\n",
       " <keras.layers.core.activation.Activation at 0x22e3e0324f0>,\n",
       " <keras.layers.convolutional.Conv2D at 0x22e42db9d60>,\n",
       " <keras.layers.normalization.batch_normalization.BatchNormalization at 0x22e42d548e0>,\n",
       " <keras.layers.core.activation.Activation at 0x22e42d7d910>,\n",
       " <keras.layers.convolutional.Conv2D at 0x22e42f213a0>,\n",
       " <keras.layers.normalization.batch_normalization.BatchNormalization at 0x22e42ffb6a0>,\n",
       " <keras.layers.merge.Add at 0x22e42ffb880>,\n",
       " <keras.layers.core.activation.Activation at 0x22e42fe8850>,\n",
       " <keras.layers.convolutional.Conv2D at 0x22e43003af0>,\n",
       " <keras.layers.normalization.batch_normalization.BatchNormalization at 0x22e43048c70>,\n",
       " <keras.layers.core.activation.Activation at 0x22e43048e20>,\n",
       " <keras.layers.convolutional.Conv2D at 0x22e43051b20>,\n",
       " <keras.layers.normalization.batch_normalization.BatchNormalization at 0x22e42df3b50>,\n",
       " <keras.layers.core.activation.Activation at 0x22e42df3e80>,\n",
       " <keras.layers.convolutional.Conv2D at 0x22e3f73bd60>,\n",
       " <keras.layers.normalization.batch_normalization.BatchNormalization at 0x22e430dd820>,\n",
       " <keras.layers.merge.Add at 0x22e42f8d5e0>,\n",
       " <keras.layers.core.activation.Activation at 0x22e42e1dbe0>,\n",
       " <keras.layers.convolutional.Conv2D at 0x22e430afd00>,\n",
       " <keras.layers.normalization.batch_normalization.BatchNormalization at 0x22e42e5bbb0>,\n",
       " <keras.layers.core.activation.Activation at 0x22e42e5b8b0>,\n",
       " <keras.layers.convolutional.Conv2D at 0x22e430cef70>,\n",
       " <keras.layers.normalization.batch_normalization.BatchNormalization at 0x22e42e31880>,\n",
       " <keras.layers.core.activation.Activation at 0x22e42e28cd0>,\n",
       " <keras.layers.convolutional.Conv2D at 0x22e42f368e0>,\n",
       " <keras.layers.normalization.batch_normalization.BatchNormalization at 0x22e42fdd340>,\n",
       " <keras.layers.merge.Add at 0x22e42fdd040>,\n",
       " <keras.layers.core.activation.Activation at 0x22e42f0f250>,\n",
       " <keras.layers.convolutional.Conv2D at 0x22e4313b490>,\n",
       " <keras.layers.normalization.batch_normalization.BatchNormalization at 0x22e431481c0>,\n",
       " <keras.layers.core.activation.Activation at 0x22e43128040>,\n",
       " <keras.layers.convolutional.Conv2D at 0x22e4313b310>,\n",
       " <keras.layers.normalization.batch_normalization.BatchNormalization at 0x22e43157940>,\n",
       " <keras.layers.core.activation.Activation at 0x22e43157670>,\n",
       " <keras.layers.convolutional.Conv2D at 0x22e431281f0>,\n",
       " <keras.layers.convolutional.Conv2D at 0x22e43131e20>,\n",
       " <keras.layers.normalization.batch_normalization.BatchNormalization at 0x22e43128df0>,\n",
       " <keras.layers.normalization.batch_normalization.BatchNormalization at 0x22e43175fd0>,\n",
       " <keras.layers.merge.Add at 0x22e43175cd0>,\n",
       " <keras.layers.core.activation.Activation at 0x22e4315bd90>,\n",
       " <keras.layers.convolutional.Conv2D at 0x22e43131340>,\n",
       " <keras.layers.normalization.batch_normalization.BatchNormalization at 0x22e430cef40>,\n",
       " <keras.layers.core.activation.Activation at 0x22e430ac130>,\n",
       " <keras.layers.convolutional.Conv2D at 0x22e42e17e20>,\n",
       " <keras.layers.normalization.batch_normalization.BatchNormalization at 0x22e43031d90>,\n",
       " <keras.layers.core.activation.Activation at 0x22e42f346d0>,\n",
       " <keras.layers.convolutional.Conv2D at 0x22e42e0cbb0>,\n",
       " <keras.layers.normalization.batch_normalization.BatchNormalization at 0x22e431891c0>,\n",
       " <keras.layers.merge.Add at 0x22e4313bcd0>,\n",
       " <keras.layers.core.activation.Activation at 0x22e42e0cf10>,\n",
       " <keras.layers.convolutional.Conv2D at 0x22e4318e340>,\n",
       " <keras.layers.normalization.batch_normalization.BatchNormalization at 0x22e431a3fa0>,\n",
       " <keras.layers.core.activation.Activation at 0x22e431a3ca0>,\n",
       " <keras.layers.convolutional.Conv2D at 0x22e4317c4f0>,\n",
       " <keras.layers.normalization.batch_normalization.BatchNormalization at 0x22e431aefa0>,\n",
       " <keras.layers.core.activation.Activation at 0x22e431aebe0>,\n",
       " <keras.layers.convolutional.Conv2D at 0x22e431bbca0>,\n",
       " <keras.layers.normalization.batch_normalization.BatchNormalization at 0x22e431c99d0>,\n",
       " <keras.layers.merge.Add at 0x22e431c9f70>,\n",
       " <keras.layers.core.activation.Activation at 0x22e431acee0>,\n",
       " <keras.layers.pooling.GlobalAveragePooling2D at 0x22e431d7310>,\n",
       " <keras.layers.core.dense.Dense at 0x22e43264ac0>]"
      ]
     },
     "execution_count": 32,
     "metadata": {},
     "output_type": "execute_result"
    }
   ],
   "source": [
    "model.layers"
   ]
  },
  {
   "cell_type": "code",
   "execution_count": null,
   "id": "e3eb346b",
   "metadata": {},
   "outputs": [],
   "source": []
  }
 ],
 "metadata": {
  "kernelspec": {
   "display_name": "Python 3 (ipykernel)",
   "language": "python",
   "name": "python3"
  },
  "language_info": {
   "codemirror_mode": {
    "name": "ipython",
    "version": 3
   },
   "file_extension": ".py",
   "mimetype": "text/x-python",
   "name": "python",
   "nbconvert_exporter": "python",
   "pygments_lexer": "ipython3",
   "version": "3.9.7"
  }
 },
 "nbformat": 4,
 "nbformat_minor": 5
}
